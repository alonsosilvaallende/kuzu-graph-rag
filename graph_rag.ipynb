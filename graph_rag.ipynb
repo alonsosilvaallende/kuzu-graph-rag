{
 "cells": [
  {
   "cell_type": "markdown",
   "metadata": {},
   "source": [
    "# Graph RAG\n",
    "\n",
    "\"Graph RAG\" has become an incredible buzz term of late. The goal of this notebook is to provide a simple and intuitive demonstration of what Graph RAG accomplishes, and how to use two open source, embedded databases (Kùzu, for graph traversal, and LanceDB, for vector search) to combine the benefits of vector and graph databases.\n",
    "\n",
    "## What is Graph RAG?\n",
    "\n",
    "At its core, Graph RAG aims to combine the power of knowledge graphs with the well-known benefits of vector (semantic) search. Knowledge graphs are great for storing and traversing relationships between entities, while vector embeddings are great for capturing the semantic similarity between chunks of data. By combining the two, we can create a powerful system that can answer complex queries that require both semantic similarity and relationship traversal.\n",
    "\n",
    "## How and why does Graph RAG work in practice?\n",
    "\n",
    "It's worth going over how and why Graph RAG makes sense, intuitively. Semantic search based on vector similarity leverages the _implicit_ relationships between entities - two vector embeddings that represent different chunks of text may be close to each other in vector space, indicating that they are semantically similar. On the other hand, knowledge graphs store _explicit_ relationships between entities - two nodes in a graph may be connected by an explicit relationship (termed an \"edge\"), indicating that they are related.\n",
    "\n",
    "By combining the two, we can create a system that can answer complex queries that require both semantic similarity and relationship traversal. The code in this notebook demonstrates this."
   ]
  },
  {
   "cell_type": "markdown",
   "metadata": {},
   "source": [
    "## Part 1: Graph-only retrieval\n",
    "\n",
    "First, let's demonstrate how to extract information into a knowledge graph and store it in [Kùzu](https://kuzudb.com/), an open source, embedded graph database."
   ]
  },
  {
   "cell_type": "code",
   "execution_count": 1,
   "metadata": {
    "execution": {
     "iopub.execute_input": "2024-09-23T09:04:12.953513Z",
     "iopub.status.busy": "2024-09-23T09:04:12.952941Z",
     "iopub.status.idle": "2024-09-23T09:04:21.483574Z",
     "shell.execute_reply": "2024-09-23T09:04:21.482500Z",
     "shell.execute_reply.started": "2024-09-23T09:04:12.953459Z"
    }
   },
   "outputs": [
    {
     "name": "stdout",
     "output_type": "stream",
     "text": [
      "Logged in as Weights & Biases user: alonso-silva.\n",
      "View Weave data at https://wandb.ai/alonso-silva/llamaindex_demo/weave\n"
     ]
    },
    {
     "data": {
      "text/plain": [
       "<weave.trace.weave_client.WeaveClient at 0x7482edf1ab40>"
      ]
     },
     "execution_count": 1,
     "metadata": {},
     "output_type": "execute_result"
    }
   ],
   "source": [
    "import weave\n",
    "\n",
    "weave.init(\"llamaindex_demo\")"
   ]
  },
  {
   "cell_type": "code",
   "execution_count": 2,
   "metadata": {
    "execution": {
     "iopub.execute_input": "2024-09-23T09:04:22.494164Z",
     "iopub.status.busy": "2024-09-23T09:04:22.493301Z",
     "iopub.status.idle": "2024-09-23T09:04:22.665290Z",
     "shell.execute_reply": "2024-09-23T09:04:22.664020Z",
     "shell.execute_reply.started": "2024-09-23T09:04:22.494107Z"
    }
   },
   "outputs": [],
   "source": [
    "import os\n",
    "import shutil\n",
    "import warnings\n",
    "from typing import List, Literal, Optional\n",
    "from dotenv import load_dotenv\n",
    "from llama_index.core import PropertyGraphIndex, Settings, SimpleDirectoryReader\n",
    "from llama_index.embeddings.openai import OpenAIEmbedding\n",
    "from llama_index.llms.openai import OpenAI\n",
    "from llama_index.core.indices.property_graph import SchemaLLMPathExtractor\n",
    "from llama_index.graph_stores.kuzu import KuzuPropertyGraphStore\n",
    "\n",
    "import kuzu\n",
    "\n",
    "load_dotenv()\n",
    "\n",
    "OPENAI_API_KEY = os.environ.get(\"OPENAI_API_KEY\")\n",
    "COHERE_API_KEY = os.environ.get(\"COHERE_API_KEY\")\n",
    "\n",
    "shutil.rmtree(\"test_kuzudb\", ignore_errors=True)\n",
    "db = kuzu.Database(\"test_kuzudb\")\n",
    "\n",
    "warnings.filterwarnings(\"ignore\")"
   ]
  },
  {
   "cell_type": "code",
   "execution_count": 3,
   "metadata": {
    "execution": {
     "iopub.execute_input": "2024-09-23T09:04:28.375900Z",
     "iopub.status.busy": "2024-09-23T09:04:28.375304Z",
     "iopub.status.idle": "2024-09-23T09:04:28.399881Z",
     "shell.execute_reply": "2024-09-23T09:04:28.398463Z",
     "shell.execute_reply.started": "2024-09-23T09:04:28.375851Z"
    }
   },
   "outputs": [],
   "source": [
    "import nest_asyncio\n",
    "nest_asyncio.apply()"
   ]
  },
  {
   "cell_type": "code",
   "execution_count": 4,
   "metadata": {
    "execution": {
     "iopub.execute_input": "2024-09-23T09:04:29.365399Z",
     "iopub.status.busy": "2024-09-23T09:04:29.364895Z",
     "iopub.status.idle": "2024-09-23T09:04:29.691051Z",
     "shell.execute_reply": "2024-09-23T09:04:29.689991Z",
     "shell.execute_reply.started": "2024-09-23T09:04:29.365352Z"
    }
   },
   "outputs": [],
   "source": [
    "# Set up the embedding model and LLM\n",
    "embed_model = OpenAIEmbedding(model_name=\"text-embedding-3-small\")\n",
    "extraction_llm = OpenAI(model=\"gpt-4o-mini\", temperature=0.0)\n",
    "generation_llm = OpenAI(model=\"gpt-4o-mini\", temperature=0.3)\n",
    "\n",
    "documents = SimpleDirectoryReader(\"./data/curie/\").load_data()\n",
    "\n",
    "entities = Literal[\"PERSON\", \"NOBEL_PRIZE\", \"LOCATION\", \"DISCOVERY\"]\n",
    "relations = Literal[\"DISCOVERED\", \"IS_MARRIED_TO\", \"WORKED_WITH\", \"WON\"]\n",
    "\n",
    "# Define explicit relationship directions as a list of triples\n",
    "# The graph extraction process will be guided by this \"schema\"\n",
    "validation_schema = [\n",
    "    (\"PERSON\", \"IS_MARRIED_TO\", \"PERSON\"),\n",
    "    (\"PERSON\", \"WORKED_WITH\", \"PERSON\"),\n",
    "    (\"PERSON\", \"WON\", \"NOBEL_PRIZE\"),\n",
    "    (\"PERSON\", \"DISCOVERED\", \"DISCOVERY\"),\n",
    "]"
   ]
  },
  {
   "cell_type": "code",
   "execution_count": 5,
   "metadata": {
    "execution": {
     "iopub.execute_input": "2024-09-23T09:04:33.110382Z",
     "iopub.status.busy": "2024-09-23T09:04:33.109373Z",
     "iopub.status.idle": "2024-09-23T09:04:33.223308Z",
     "shell.execute_reply": "2024-09-23T09:04:33.221852Z",
     "shell.execute_reply.started": "2024-09-23T09:04:33.110323Z"
    }
   },
   "outputs": [],
   "source": [
    "graph_store = KuzuPropertyGraphStore(\n",
    "    db,\n",
    "    has_structured_schema=True,\n",
    "    relationship_schema=validation_schema,\n",
    ")"
   ]
  },
  {
   "cell_type": "code",
   "execution_count": 6,
   "metadata": {
    "execution": {
     "iopub.execute_input": "2024-09-23T09:04:33.973744Z",
     "iopub.status.busy": "2024-09-23T09:04:33.973219Z",
     "iopub.status.idle": "2024-09-23T09:04:33.998402Z",
     "shell.execute_reply": "2024-09-23T09:04:33.997206Z",
     "shell.execute_reply.started": "2024-09-23T09:04:33.973698Z"
    }
   },
   "outputs": [],
   "source": [
    "schema_path_extractor = SchemaLLMPathExtractor(\n",
    "    llm=extraction_llm,\n",
    "    possible_entities=entities,\n",
    "    possible_relations=relations,\n",
    "    kg_validation_schema=validation_schema,\n",
    "    strict=True,  # if false, will allow triples outside of the schema\n",
    ")"
   ]
  },
  {
   "cell_type": "code",
   "execution_count": 7,
   "metadata": {
    "execution": {
     "iopub.execute_input": "2024-09-23T09:04:35.677007Z",
     "iopub.status.busy": "2024-09-23T09:04:35.676509Z",
     "iopub.status.idle": "2024-09-23T09:04:46.732375Z",
     "shell.execute_reply": "2024-09-23T09:04:46.730826Z",
     "shell.execute_reply.started": "2024-09-23T09:04:35.676962Z"
    }
   },
   "outputs": [
    {
     "name": "stderr",
     "output_type": "stream",
     "text": [
      "Parsing nodes: 100%|██████████| 1/1 [00:00<00:00, 949.37it/s]\n",
      "Extracting paths from text with schema: 100%|██████████| 1/1 [00:08<00:00,  8.02s/it]\n"
     ]
    },
    {
     "name": "stdout",
     "output_type": "stream",
     "text": [
      "🍩 https://wandb.ai/alonso-silva/llamaindex_demo/r/call/01921e20-28e3-7931-810f-b1f0054d80f6\n"
     ]
    },
    {
     "name": "stderr",
     "output_type": "stream",
     "text": [
      "Generating embeddings: 100%|██████████| 1/1 [00:00<00:00,  1.19it/s]\n",
      "Generating embeddings: 100%|██████████| 1/1 [00:00<00:00,  1.43it/s]\n"
     ]
    }
   ],
   "source": [
    "# Set up the property graph index\n",
    "kg_index = PropertyGraphIndex.from_documents(\n",
    "    documents,\n",
    "    embed_model=embed_model,\n",
    "    kg_extractors=[schema_path_extractor],\n",
    "    property_graph_store=graph_store,\n",
    "    show_progress=True,\n",
    ")"
   ]
  },
  {
   "cell_type": "markdown",
   "metadata": {},
   "source": [
    "Now that the graph is created, we can explore it in [Kùzu Explorer](https://github.com/kuzudb/explorer), a web-base UI, by running a Docker container that pulls the latest image of Kùzu Explorer as follows:\n",
    "\n",
    "```bash\n",
    "docker run -p 8000:8000 \\\n",
    "           -v ./test_kuzudb:/database \\\n",
    "           -e MODE=READ_ONLY \\\n",
    "           --rm kuzudb/explorer:latest\n",
    "```\n",
    "\n",
    "Then, launch the UI and then visting http://localhost:8000/.\n",
    "\n",
    "The easiest way to see the entire graph is to use a Cypher query like `MATCH (a)-[b]->(c) RETURN * LIMIT 100`.\n",
    "\n",
    "For this dataset, the graph constructed looks as follows:\n",
    "\n",
    "![](./assets/kuzu_graph_rag.png)\n",
    "\n",
    "The dataset is about the scientist Marie Curie and her discoveries, as well as her direct and indirect relationships to persons like Pierre Curie, Paul Langevin and Albert Einstein. The graph has an explicit schema, specified by us, and captures entities from the unstructured data like \"Polonium\", \"Radium\", and \"Nobel Prize in Physics\", etc., and edges representing relationships between these entities."
   ]
  },
  {
   "cell_type": "markdown",
   "metadata": {},
   "source": [
    "## Importance of graph quality\n",
    "\n",
    "Graph construction is a critical step in the process of building a Graph RAG system. The quality of the graph will directly impact the quality of the results. In this notebook, we will use a simple example that leverages an LLM to demonstrate the idea. In practice, you would use more sophisticated methods to construct a knowledge graph, such as custom ML models or APIs (Rebel, GliNER/GliREL, DiffBot, WhyHow Knowledge Graph Studio, etc.).\n",
    "\n",
    "The key is to _persist_ the graph in a graph database, so that it can be managed and queried efficiently. Kùzu is a great choice for this purpose, as it is an open source, embedded graph database that is easy to use and deploy.\n",
    "\n",
    "The LLM-generated graph can be incomplete, noisy, or contain errors. It is important to clean and refine the graph before storing it in the database. This process is called \"graph curation\" and is essential for the quality of the results. The following cell performs the task of explicitly defining the graph and storing specific nodes and relationships in the already-existing knowledge graph, and persists it to the Kùzu database that sits on disk."
   ]
  },
  {
   "cell_type": "code",
   "execution_count": 22,
   "metadata": {
    "execution": {
     "iopub.execute_input": "2024-09-23T09:25:57.711449Z",
     "iopub.status.busy": "2024-09-23T09:25:57.710876Z",
     "iopub.status.idle": "2024-09-23T09:25:57.892708Z",
     "shell.execute_reply": "2024-09-23T09:25:57.891241Z",
     "shell.execute_reply.started": "2024-09-23T09:25:57.711402Z"
    }
   },
   "outputs": [],
   "source": [
    "from llama_index.core.graph_stores.types import Relation, EntityNode\n",
    "\n",
    "graph_store.upsert_nodes(\n",
    "    [\n",
    "        EntityNode(label=\"PERSON\", name=\"Jacques Curie\"),\n",
    "    ]\n",
    ")\n",
    "\n",
    "graph_store.upsert_relations(\n",
    "    [\n",
    "        Relation(\n",
    "            label=\"WORKED_WITH\",\n",
    "            source_id=\"Pierre Curie\",\n",
    "            target_id=\"Paul Langevin\",\n",
    "        ),\n",
    "        Relation(\n",
    "            label=\"DISCOVERED\",\n",
    "            source_id=\"Jacques Curie\",\n",
    "            target_id=\"piezoelectricity\",\n",
    "        ),\n",
    "    ]\n",
    ")"
   ]
  },
  {
   "cell_type": "code",
   "execution_count": 23,
   "metadata": {
    "execution": {
     "iopub.execute_input": "2024-09-23T09:25:58.552627Z",
     "iopub.status.busy": "2024-09-23T09:25:58.551402Z",
     "iopub.status.idle": "2024-09-23T09:26:04.911394Z",
     "shell.execute_reply": "2024-09-23T09:26:04.909867Z",
     "shell.execute_reply.started": "2024-09-23T09:25:58.552558Z"
    }
   },
   "outputs": [
    {
     "name": "stderr",
     "output_type": "stream",
     "text": [
      "Parsing nodes: 100%|██████████| 1/1 [00:00<00:00, 437.32it/s]\n",
      "Extracting paths from text with schema: 100%|██████████| 1/1 [00:04<00:00,  4.71s/it]\n"
     ]
    },
    {
     "name": "stdout",
     "output_type": "stream",
     "text": [
      "🍩 https://wandb.ai/alonso-silva/llamaindex_demo/r/call/01921e33-b6b5-7f41-b6a3-6aa9941e7534\n"
     ]
    },
    {
     "name": "stderr",
     "output_type": "stream",
     "text": [
      "Generating embeddings: 100%|██████████| 1/1 [00:00<00:00,  1.08it/s]\n",
      "Generating embeddings: 0it [00:00, ?it/s]\n"
     ]
    }
   ],
   "source": [
    "kg_index = PropertyGraphIndex.from_documents(\n",
    "    documents,\n",
    "    embed_model=embed_model,\n",
    "    kg_extractors=[schema_path_extractor],\n",
    "    property_graph_store=graph_store,\n",
    "    show_progress=True,\n",
    ")"
   ]
  },
  {
   "cell_type": "code",
   "execution_count": 24,
   "metadata": {
    "execution": {
     "iopub.execute_input": "2024-09-23T09:26:14.807608Z",
     "iopub.status.busy": "2024-09-23T09:26:14.806986Z",
     "iopub.status.idle": "2024-09-23T09:26:14.814414Z",
     "shell.execute_reply": "2024-09-23T09:26:14.813048Z",
     "shell.execute_reply.started": "2024-09-23T09:26:14.807555Z"
    }
   },
   "outputs": [],
   "source": [
    "kg_retriever = kg_index.as_retriever()"
   ]
  },
  {
   "cell_type": "code",
   "execution_count": 25,
   "metadata": {
    "execution": {
     "iopub.execute_input": "2024-09-23T09:26:16.271423Z",
     "iopub.status.busy": "2024-09-23T09:26:16.270935Z",
     "iopub.status.idle": "2024-09-23T09:26:16.277785Z",
     "shell.execute_reply": "2024-09-23T09:26:16.276649Z",
     "shell.execute_reply.started": "2024-09-23T09:26:16.271379Z"
    }
   },
   "outputs": [],
   "source": [
    "kg_query_engine = kg_index.as_query_engine(include_text=True)"
   ]
  },
  {
   "cell_type": "code",
   "execution_count": 26,
   "metadata": {
    "execution": {
     "iopub.execute_input": "2024-09-23T09:26:17.358930Z",
     "iopub.status.busy": "2024-09-23T09:26:17.358444Z",
     "iopub.status.idle": "2024-09-23T09:26:20.843834Z",
     "shell.execute_reply": "2024-09-23T09:26:20.842964Z",
     "shell.execute_reply.started": "2024-09-23T09:26:17.358883Z"
    }
   },
   "outputs": [],
   "source": [
    "response = kg_query_engine.query(\"Who discovered Piezoelectricity?\")"
   ]
  },
  {
   "cell_type": "code",
   "execution_count": 27,
   "metadata": {
    "execution": {
     "iopub.execute_input": "2024-09-23T09:26:21.968354Z",
     "iopub.status.busy": "2024-09-23T09:26:21.967670Z",
     "iopub.status.idle": "2024-09-23T09:26:21.975911Z",
     "shell.execute_reply": "2024-09-23T09:26:21.974737Z",
     "shell.execute_reply.started": "2024-09-23T09:26:21.968302Z"
    }
   },
   "outputs": [
    {
     "name": "stdout",
     "output_type": "stream",
     "text": [
      "Marie Curie ({'id': 'Marie Curie', 'text': None, 'label': 'PERSON', 'embedding': None, 'creation_date': datetime.date(2024, 9, 21), 'last_modified_date': datetime.date(2024, 9, 21), 'file_name': 'curie.txt', 'file_path': '/home/asilva/quarto/2024-PyData-Paris/kuzu-graph-rag/data/curie/curie.txt', 'file_size': 1830, 'file_type': 'text/plain', 'ref_doc_id': None, 'triplet_source_id': '21fca950-5574-4aa1-806c-ad7db40e3290'}) -> DISCOVERED -> radium ({'id': 'Marie Curie', 'text': None, 'label': 'PERSON', 'embedding': None, 'creation_date': datetime.date(2024, 9, 21), 'last_modified_date': datetime.date(2024, 9, 21), 'file_name': 'curie.txt', 'file_path': '/home/asilva/quarto/2024-PyData-Paris/kuzu-graph-rag/data/curie/curie.txt', 'file_size': 1830, 'file_type': 'text/plain', 'ref_doc_id': None, 'triplet_source_id': '21fca950-5574-4aa1-806c-ad7db40e3290'})\n",
      "\n",
      "Marie Curie ({'id': 'Marie Curie', 'text': None, 'label': 'PERSON', 'embedding': None, 'creation_date': datetime.date(2024, 9, 21), 'last_modified_date': datetime.date(2024, 9, 21), 'file_name': 'curie.txt', 'file_path': '/home/asilva/quarto/2024-PyData-Paris/kuzu-graph-rag/data/curie/curie.txt', 'file_size': 1830, 'file_type': 'text/plain', 'ref_doc_id': None, 'triplet_source_id': '21fca950-5574-4aa1-806c-ad7db40e3290'}) -> DISCOVERED -> polonium ({'id': 'Marie Curie', 'text': None, 'label': 'PERSON', 'embedding': None, 'creation_date': datetime.date(2024, 9, 21), 'last_modified_date': datetime.date(2024, 9, 21), 'file_name': 'curie.txt', 'file_path': '/home/asilva/quarto/2024-PyData-Paris/kuzu-graph-rag/data/curie/curie.txt', 'file_size': 1830, 'file_type': 'text/plain', 'ref_doc_id': None, 'triplet_source_id': '21fca950-5574-4aa1-806c-ad7db40e3290'})\n",
      "\n",
      "Marie Curie ({'id': 'Marie Curie', 'text': None, 'label': 'PERSON', 'embedding': None, 'creation_date': datetime.date(2024, 9, 21), 'last_modified_date': datetime.date(2024, 9, 21), 'file_name': 'curie.txt', 'file_path': '/home/asilva/quarto/2024-PyData-Paris/kuzu-graph-rag/data/curie/curie.txt', 'file_size': 1830, 'file_type': 'text/plain', 'ref_doc_id': None, 'triplet_source_id': '21fca950-5574-4aa1-806c-ad7db40e3290'}) -> WON -> Nobel Prize in Physics ({'id': 'Marie Curie', 'text': None, 'label': 'PERSON', 'embedding': None, 'creation_date': datetime.date(2024, 9, 21), 'last_modified_date': datetime.date(2024, 9, 21), 'file_name': 'curie.txt', 'file_path': '/home/asilva/quarto/2024-PyData-Paris/kuzu-graph-rag/data/curie/curie.txt', 'file_size': 1830, 'file_type': 'text/plain', 'ref_doc_id': None, 'triplet_source_id': '21fca950-5574-4aa1-806c-ad7db40e3290'})\n",
      "\n",
      "Marie Curie ({'id': 'Marie Curie', 'text': None, 'label': 'PERSON', 'embedding': None, 'creation_date': datetime.date(2024, 9, 21), 'last_modified_date': datetime.date(2024, 9, 21), 'file_name': 'curie.txt', 'file_path': '/home/asilva/quarto/2024-PyData-Paris/kuzu-graph-rag/data/curie/curie.txt', 'file_size': 1830, 'file_type': 'text/plain', 'ref_doc_id': None, 'triplet_source_id': '21fca950-5574-4aa1-806c-ad7db40e3290'}) -> WON -> Nobel Prize in Chemistry ({'id': 'Marie Curie', 'text': None, 'label': 'PERSON', 'embedding': None, 'creation_date': datetime.date(2024, 9, 21), 'last_modified_date': datetime.date(2024, 9, 21), 'file_name': 'curie.txt', 'file_path': '/home/asilva/quarto/2024-PyData-Paris/kuzu-graph-rag/data/curie/curie.txt', 'file_size': 1830, 'file_type': 'text/plain', 'ref_doc_id': None, 'triplet_source_id': '21fca950-5574-4aa1-806c-ad7db40e3290'})\n",
      "\n",
      "Marie Curie ({'id': 'Marie Curie', 'text': None, 'label': 'PERSON', 'embedding': None, 'creation_date': datetime.date(2024, 9, 21), 'last_modified_date': datetime.date(2024, 9, 21), 'file_name': 'curie.txt', 'file_path': '/home/asilva/quarto/2024-PyData-Paris/kuzu-graph-rag/data/curie/curie.txt', 'file_size': 1830, 'file_type': 'text/plain', 'ref_doc_id': None, 'triplet_source_id': '21fca950-5574-4aa1-806c-ad7db40e3290'}) -> WON -> Nobel Prize ({'id': 'Marie Curie', 'text': None, 'label': 'PERSON', 'embedding': None, 'creation_date': datetime.date(2024, 9, 21), 'last_modified_date': datetime.date(2024, 9, 21), 'file_name': 'curie.txt', 'file_path': '/home/asilva/quarto/2024-PyData-Paris/kuzu-graph-rag/data/curie/curie.txt', 'file_size': 1830, 'file_type': 'text/plain', 'ref_doc_id': None, 'triplet_source_id': '21fca950-5574-4aa1-806c-ad7db40e3290'})\n",
      "\n",
      "Marie Curie ({'id': 'Marie Curie', 'text': None, 'label': 'PERSON', 'embedding': None, 'creation_date': datetime.date(2024, 9, 21), 'last_modified_date': datetime.date(2024, 9, 21), 'file_name': 'curie.txt', 'file_path': '/home/asilva/quarto/2024-PyData-Paris/kuzu-graph-rag/data/curie/curie.txt', 'file_size': 1830, 'file_type': 'text/plain', 'ref_doc_id': None, 'triplet_source_id': '21fca950-5574-4aa1-806c-ad7db40e3290'}) -> IS_MARRIED_TO -> Pierre Curie ({'id': 'Marie Curie', 'text': None, 'label': 'PERSON', 'embedding': None, 'creation_date': datetime.date(2024, 9, 21), 'last_modified_date': datetime.date(2024, 9, 21), 'file_name': 'curie.txt', 'file_path': '/home/asilva/quarto/2024-PyData-Paris/kuzu-graph-rag/data/curie/curie.txt', 'file_size': 1830, 'file_type': 'text/plain', 'ref_doc_id': None, 'triplet_source_id': '21fca950-5574-4aa1-806c-ad7db40e3290'})\n",
      "\n",
      "Marie Curie ({'id': 'Marie Curie', 'text': None, 'label': 'PERSON', 'embedding': None, 'creation_date': datetime.date(2024, 9, 21), 'last_modified_date': datetime.date(2024, 9, 21), 'file_name': 'curie.txt', 'file_path': '/home/asilva/quarto/2024-PyData-Paris/kuzu-graph-rag/data/curie/curie.txt', 'file_size': 1830, 'file_type': 'text/plain', 'ref_doc_id': None, 'triplet_source_id': '21fca950-5574-4aa1-806c-ad7db40e3290'}) -> IS_MARRIED_TO -> Paul Langevin ({'id': 'Marie Curie', 'text': None, 'label': 'PERSON', 'embedding': None, 'creation_date': datetime.date(2024, 9, 21), 'last_modified_date': datetime.date(2024, 9, 21), 'file_name': 'curie.txt', 'file_path': '/home/asilva/quarto/2024-PyData-Paris/kuzu-graph-rag/data/curie/curie.txt', 'file_size': 1830, 'file_type': 'text/plain', 'ref_doc_id': None, 'triplet_source_id': '21fca950-5574-4aa1-806c-ad7db40e3290'})\n",
      "\n",
      "Marie Curie ({'id': 'Marie Curie', 'text': None, 'label': 'PERSON', 'embedding': None, 'creation_date': datetime.date(2024, 9, 21), 'last_modified_date': datetime.date(2024, 9, 21), 'file_name': 'curie.txt', 'file_path': '/home/asilva/quarto/2024-PyData-Paris/kuzu-graph-rag/data/curie/curie.txt', 'file_size': 1830, 'file_type': 'text/plain', 'ref_doc_id': None, 'triplet_source_id': '21fca950-5574-4aa1-806c-ad7db40e3290'}) -> WORKED_WITH -> Albert Einstein ({'id': 'Marie Curie', 'text': None, 'label': 'PERSON', 'embedding': None, 'creation_date': datetime.date(2024, 9, 21), 'last_modified_date': datetime.date(2024, 9, 21), 'file_name': 'curie.txt', 'file_path': '/home/asilva/quarto/2024-PyData-Paris/kuzu-graph-rag/data/curie/curie.txt', 'file_size': 1830, 'file_type': 'text/plain', 'ref_doc_id': None, 'triplet_source_id': '21fca950-5574-4aa1-806c-ad7db40e3290'})\n",
      "\n",
      "Pierre Curie ({'id': 'Pierre Curie', 'text': None, 'label': 'PERSON', 'embedding': None, 'creation_date': datetime.date(2024, 9, 21), 'last_modified_date': datetime.date(2024, 9, 21), 'file_name': 'curie.txt', 'file_path': '/home/asilva/quarto/2024-PyData-Paris/kuzu-graph-rag/data/curie/curie.txt', 'file_size': 1830, 'file_type': 'text/plain', 'ref_doc_id': None, 'triplet_source_id': '21fca950-5574-4aa1-806c-ad7db40e3290'}) -> DISCOVERED -> piezoelectricity ({'id': 'Pierre Curie', 'text': None, 'label': 'PERSON', 'embedding': None, 'creation_date': datetime.date(2024, 9, 21), 'last_modified_date': datetime.date(2024, 9, 21), 'file_name': 'curie.txt', 'file_path': '/home/asilva/quarto/2024-PyData-Paris/kuzu-graph-rag/data/curie/curie.txt', 'file_size': 1830, 'file_type': 'text/plain', 'ref_doc_id': None, 'triplet_source_id': '21fca950-5574-4aa1-806c-ad7db40e3290'})\n",
      "\n",
      "Pierre Curie ({'id': 'Pierre Curie', 'text': None, 'label': 'PERSON', 'embedding': None, 'creation_date': datetime.date(2024, 9, 21), 'last_modified_date': datetime.date(2024, 9, 21), 'file_name': 'curie.txt', 'file_path': '/home/asilva/quarto/2024-PyData-Paris/kuzu-graph-rag/data/curie/curie.txt', 'file_size': 1830, 'file_type': 'text/plain', 'ref_doc_id': None, 'triplet_source_id': '21fca950-5574-4aa1-806c-ad7db40e3290'}) -> WORKED_WITH -> Jacques Curie ({'id': 'Pierre Curie', 'text': None, 'label': 'PERSON', 'embedding': None, 'creation_date': datetime.date(2024, 9, 21), 'last_modified_date': datetime.date(2024, 9, 21), 'file_name': 'curie.txt', 'file_path': '/home/asilva/quarto/2024-PyData-Paris/kuzu-graph-rag/data/curie/curie.txt', 'file_size': 1830, 'file_type': 'text/plain', 'ref_doc_id': None, 'triplet_source_id': '21fca950-5574-4aa1-806c-ad7db40e3290'})\n",
      "\n",
      "Pierre Curie ({'id': 'Pierre Curie', 'text': None, 'label': 'PERSON', 'embedding': None, 'creation_date': datetime.date(2024, 9, 21), 'last_modified_date': datetime.date(2024, 9, 21), 'file_name': 'curie.txt', 'file_path': '/home/asilva/quarto/2024-PyData-Paris/kuzu-graph-rag/data/curie/curie.txt', 'file_size': 1830, 'file_type': 'text/plain', 'ref_doc_id': None, 'triplet_source_id': '21fca950-5574-4aa1-806c-ad7db40e3290'}) -> WORKED_WITH -> Paul Langevin ({'id': 'Pierre Curie', 'text': None, 'label': 'PERSON', 'embedding': None, 'creation_date': datetime.date(2024, 9, 21), 'last_modified_date': datetime.date(2024, 9, 21), 'file_name': 'curie.txt', 'file_path': '/home/asilva/quarto/2024-PyData-Paris/kuzu-graph-rag/data/curie/curie.txt', 'file_size': 1830, 'file_type': 'text/plain', 'ref_doc_id': None, 'triplet_source_id': '21fca950-5574-4aa1-806c-ad7db40e3290'})\n",
      "\n",
      "Jacques Curie ({'id': 'Jacques Curie', 'text': None, 'label': 'PERSON', 'embedding': None, 'creation_date': None, 'last_modified_date': None, 'file_name': None, 'file_path': None, 'file_size': None, 'file_type': None, 'ref_doc_id': None, 'triplet_source_id': None}) -> DISCOVERED -> piezoelectricity ({'id': 'Jacques Curie', 'text': None, 'label': 'PERSON', 'embedding': None, 'creation_date': None, 'last_modified_date': None, 'file_name': None, 'file_path': None, 'file_size': None, 'file_type': None, 'ref_doc_id': None, 'triplet_source_id': None})\n",
      "\n"
     ]
    }
   ],
   "source": [
    "for i in range(len(response.source_nodes)):\n",
    "    print(response.source_nodes[i].node.text)\n",
    "    print()"
   ]
  },
  {
   "cell_type": "code",
   "execution_count": 21,
   "metadata": {
    "execution": {
     "iopub.execute_input": "2024-09-23T09:23:44.109096Z",
     "iopub.status.busy": "2024-09-23T09:23:44.108611Z",
     "iopub.status.idle": "2024-09-23T09:23:44.118440Z",
     "shell.execute_reply": "2024-09-23T09:23:44.117380Z",
     "shell.execute_reply.started": "2024-09-23T09:23:44.109050Z"
    }
   },
   "outputs": [
    {
     "data": {
      "text/plain": [
       "Response(response='Jacques Curie discovered Piezoelectricity.', source_nodes=[NodeWithScore(node=TextNode(id_='912e722b-2bb8-45b8-8c22-afa99cf8d368', embedding=None, metadata={}, excluded_embed_metadata_keys=[], excluded_llm_metadata_keys=[], relationships={<NodeRelationship.SOURCE: '1'>: RelatedNodeInfo(node_id='21fca950-5574-4aa1-806c-ad7db40e3290', node_type=None, metadata={}, hash=None)}, text=\"Marie Curie ({'id': 'Marie Curie', 'text': None, 'label': 'PERSON', 'embedding': None, 'creation_date': datetime.date(2024, 9, 21), 'last_modified_date': datetime.date(2024, 9, 21), 'file_name': 'curie.txt', 'file_path': '/home/asilva/quarto/2024-PyData-Paris/kuzu-graph-rag/data/curie/curie.txt', 'file_size': 1830, 'file_type': 'text/plain', 'ref_doc_id': None, 'triplet_source_id': '21fca950-5574-4aa1-806c-ad7db40e3290'}) -> DISCOVERED -> radium ({'id': 'Marie Curie', 'text': None, 'label': 'PERSON', 'embedding': None, 'creation_date': datetime.date(2024, 9, 21), 'last_modified_date': datetime.date(2024, 9, 21), 'file_name': 'curie.txt', 'file_path': '/home/asilva/quarto/2024-PyData-Paris/kuzu-graph-rag/data/curie/curie.txt', 'file_size': 1830, 'file_type': 'text/plain', 'ref_doc_id': None, 'triplet_source_id': '21fca950-5574-4aa1-806c-ad7db40e3290'})\", mimetype='text/plain', start_char_idx=None, end_char_idx=None, text_template='{metadata_str}\\n\\n{content}', metadata_template='{key}: {value}', metadata_seperator='\\n'), score=1.0), NodeWithScore(node=TextNode(id_='ec8629e4-c0e2-4e53-b101-00405316ebde', embedding=None, metadata={}, excluded_embed_metadata_keys=[], excluded_llm_metadata_keys=[], relationships={<NodeRelationship.SOURCE: '1'>: RelatedNodeInfo(node_id='21fca950-5574-4aa1-806c-ad7db40e3290', node_type=None, metadata={}, hash=None)}, text=\"Marie Curie ({'id': 'Marie Curie', 'text': None, 'label': 'PERSON', 'embedding': None, 'creation_date': datetime.date(2024, 9, 21), 'last_modified_date': datetime.date(2024, 9, 21), 'file_name': 'curie.txt', 'file_path': '/home/asilva/quarto/2024-PyData-Paris/kuzu-graph-rag/data/curie/curie.txt', 'file_size': 1830, 'file_type': 'text/plain', 'ref_doc_id': None, 'triplet_source_id': '21fca950-5574-4aa1-806c-ad7db40e3290'}) -> DISCOVERED -> polonium ({'id': 'Marie Curie', 'text': None, 'label': 'PERSON', 'embedding': None, 'creation_date': datetime.date(2024, 9, 21), 'last_modified_date': datetime.date(2024, 9, 21), 'file_name': 'curie.txt', 'file_path': '/home/asilva/quarto/2024-PyData-Paris/kuzu-graph-rag/data/curie/curie.txt', 'file_size': 1830, 'file_type': 'text/plain', 'ref_doc_id': None, 'triplet_source_id': '21fca950-5574-4aa1-806c-ad7db40e3290'})\", mimetype='text/plain', start_char_idx=None, end_char_idx=None, text_template='{metadata_str}\\n\\n{content}', metadata_template='{key}: {value}', metadata_seperator='\\n'), score=1.0), NodeWithScore(node=TextNode(id_='48de11ad-a5b6-4db1-a9ca-fac1f35035de', embedding=None, metadata={}, excluded_embed_metadata_keys=[], excluded_llm_metadata_keys=[], relationships={<NodeRelationship.SOURCE: '1'>: RelatedNodeInfo(node_id='21fca950-5574-4aa1-806c-ad7db40e3290', node_type=None, metadata={}, hash=None)}, text=\"Marie Curie ({'id': 'Marie Curie', 'text': None, 'label': 'PERSON', 'embedding': None, 'creation_date': datetime.date(2024, 9, 21), 'last_modified_date': datetime.date(2024, 9, 21), 'file_name': 'curie.txt', 'file_path': '/home/asilva/quarto/2024-PyData-Paris/kuzu-graph-rag/data/curie/curie.txt', 'file_size': 1830, 'file_type': 'text/plain', 'ref_doc_id': None, 'triplet_source_id': '21fca950-5574-4aa1-806c-ad7db40e3290'}) -> WON -> Nobel Prize in Physics ({'id': 'Marie Curie', 'text': None, 'label': 'PERSON', 'embedding': None, 'creation_date': datetime.date(2024, 9, 21), 'last_modified_date': datetime.date(2024, 9, 21), 'file_name': 'curie.txt', 'file_path': '/home/asilva/quarto/2024-PyData-Paris/kuzu-graph-rag/data/curie/curie.txt', 'file_size': 1830, 'file_type': 'text/plain', 'ref_doc_id': None, 'triplet_source_id': '21fca950-5574-4aa1-806c-ad7db40e3290'})\", mimetype='text/plain', start_char_idx=None, end_char_idx=None, text_template='{metadata_str}\\n\\n{content}', metadata_template='{key}: {value}', metadata_seperator='\\n'), score=1.0), NodeWithScore(node=TextNode(id_='ddb64653-526d-4443-a926-b7585c70ae7b', embedding=None, metadata={}, excluded_embed_metadata_keys=[], excluded_llm_metadata_keys=[], relationships={<NodeRelationship.SOURCE: '1'>: RelatedNodeInfo(node_id='21fca950-5574-4aa1-806c-ad7db40e3290', node_type=None, metadata={}, hash=None)}, text=\"Marie Curie ({'id': 'Marie Curie', 'text': None, 'label': 'PERSON', 'embedding': None, 'creation_date': datetime.date(2024, 9, 21), 'last_modified_date': datetime.date(2024, 9, 21), 'file_name': 'curie.txt', 'file_path': '/home/asilva/quarto/2024-PyData-Paris/kuzu-graph-rag/data/curie/curie.txt', 'file_size': 1830, 'file_type': 'text/plain', 'ref_doc_id': None, 'triplet_source_id': '21fca950-5574-4aa1-806c-ad7db40e3290'}) -> WON -> Nobel Prize in Chemistry ({'id': 'Marie Curie', 'text': None, 'label': 'PERSON', 'embedding': None, 'creation_date': datetime.date(2024, 9, 21), 'last_modified_date': datetime.date(2024, 9, 21), 'file_name': 'curie.txt', 'file_path': '/home/asilva/quarto/2024-PyData-Paris/kuzu-graph-rag/data/curie/curie.txt', 'file_size': 1830, 'file_type': 'text/plain', 'ref_doc_id': None, 'triplet_source_id': '21fca950-5574-4aa1-806c-ad7db40e3290'})\", mimetype='text/plain', start_char_idx=None, end_char_idx=None, text_template='{metadata_str}\\n\\n{content}', metadata_template='{key}: {value}', metadata_seperator='\\n'), score=1.0), NodeWithScore(node=TextNode(id_='e6fa911c-0bc8-47a0-8555-02faf2efdd7e', embedding=None, metadata={}, excluded_embed_metadata_keys=[], excluded_llm_metadata_keys=[], relationships={<NodeRelationship.SOURCE: '1'>: RelatedNodeInfo(node_id='21fca950-5574-4aa1-806c-ad7db40e3290', node_type=None, metadata={}, hash=None)}, text=\"Marie Curie ({'id': 'Marie Curie', 'text': None, 'label': 'PERSON', 'embedding': None, 'creation_date': datetime.date(2024, 9, 21), 'last_modified_date': datetime.date(2024, 9, 21), 'file_name': 'curie.txt', 'file_path': '/home/asilva/quarto/2024-PyData-Paris/kuzu-graph-rag/data/curie/curie.txt', 'file_size': 1830, 'file_type': 'text/plain', 'ref_doc_id': None, 'triplet_source_id': '21fca950-5574-4aa1-806c-ad7db40e3290'}) -> WON -> Nobel Prize ({'id': 'Marie Curie', 'text': None, 'label': 'PERSON', 'embedding': None, 'creation_date': datetime.date(2024, 9, 21), 'last_modified_date': datetime.date(2024, 9, 21), 'file_name': 'curie.txt', 'file_path': '/home/asilva/quarto/2024-PyData-Paris/kuzu-graph-rag/data/curie/curie.txt', 'file_size': 1830, 'file_type': 'text/plain', 'ref_doc_id': None, 'triplet_source_id': '21fca950-5574-4aa1-806c-ad7db40e3290'})\", mimetype='text/plain', start_char_idx=None, end_char_idx=None, text_template='{metadata_str}\\n\\n{content}', metadata_template='{key}: {value}', metadata_seperator='\\n'), score=1.0), NodeWithScore(node=TextNode(id_='8d92d662-813c-4b21-a24f-e15a2ffe76e7', embedding=None, metadata={}, excluded_embed_metadata_keys=[], excluded_llm_metadata_keys=[], relationships={<NodeRelationship.SOURCE: '1'>: RelatedNodeInfo(node_id='21fca950-5574-4aa1-806c-ad7db40e3290', node_type=None, metadata={}, hash=None)}, text=\"Marie Curie ({'id': 'Marie Curie', 'text': None, 'label': 'PERSON', 'embedding': None, 'creation_date': datetime.date(2024, 9, 21), 'last_modified_date': datetime.date(2024, 9, 21), 'file_name': 'curie.txt', 'file_path': '/home/asilva/quarto/2024-PyData-Paris/kuzu-graph-rag/data/curie/curie.txt', 'file_size': 1830, 'file_type': 'text/plain', 'ref_doc_id': None, 'triplet_source_id': '21fca950-5574-4aa1-806c-ad7db40e3290'}) -> IS_MARRIED_TO -> Pierre Curie ({'id': 'Marie Curie', 'text': None, 'label': 'PERSON', 'embedding': None, 'creation_date': datetime.date(2024, 9, 21), 'last_modified_date': datetime.date(2024, 9, 21), 'file_name': 'curie.txt', 'file_path': '/home/asilva/quarto/2024-PyData-Paris/kuzu-graph-rag/data/curie/curie.txt', 'file_size': 1830, 'file_type': 'text/plain', 'ref_doc_id': None, 'triplet_source_id': '21fca950-5574-4aa1-806c-ad7db40e3290'})\", mimetype='text/plain', start_char_idx=None, end_char_idx=None, text_template='{metadata_str}\\n\\n{content}', metadata_template='{key}: {value}', metadata_seperator='\\n'), score=1.0), NodeWithScore(node=TextNode(id_='f0fddae0-d498-4693-9ddb-9059dad51479', embedding=None, metadata={}, excluded_embed_metadata_keys=[], excluded_llm_metadata_keys=[], relationships={<NodeRelationship.SOURCE: '1'>: RelatedNodeInfo(node_id='21fca950-5574-4aa1-806c-ad7db40e3290', node_type=None, metadata={}, hash=None)}, text=\"Marie Curie ({'id': 'Marie Curie', 'text': None, 'label': 'PERSON', 'embedding': None, 'creation_date': datetime.date(2024, 9, 21), 'last_modified_date': datetime.date(2024, 9, 21), 'file_name': 'curie.txt', 'file_path': '/home/asilva/quarto/2024-PyData-Paris/kuzu-graph-rag/data/curie/curie.txt', 'file_size': 1830, 'file_type': 'text/plain', 'ref_doc_id': None, 'triplet_source_id': '21fca950-5574-4aa1-806c-ad7db40e3290'}) -> IS_MARRIED_TO -> Paul Langevin ({'id': 'Marie Curie', 'text': None, 'label': 'PERSON', 'embedding': None, 'creation_date': datetime.date(2024, 9, 21), 'last_modified_date': datetime.date(2024, 9, 21), 'file_name': 'curie.txt', 'file_path': '/home/asilva/quarto/2024-PyData-Paris/kuzu-graph-rag/data/curie/curie.txt', 'file_size': 1830, 'file_type': 'text/plain', 'ref_doc_id': None, 'triplet_source_id': '21fca950-5574-4aa1-806c-ad7db40e3290'})\", mimetype='text/plain', start_char_idx=None, end_char_idx=None, text_template='{metadata_str}\\n\\n{content}', metadata_template='{key}: {value}', metadata_seperator='\\n'), score=1.0), NodeWithScore(node=TextNode(id_='39bc1ce1-fb4f-4c96-8d56-24e1221ff57d', embedding=None, metadata={}, excluded_embed_metadata_keys=[], excluded_llm_metadata_keys=[], relationships={<NodeRelationship.SOURCE: '1'>: RelatedNodeInfo(node_id='21fca950-5574-4aa1-806c-ad7db40e3290', node_type=None, metadata={}, hash=None)}, text=\"Marie Curie ({'id': 'Marie Curie', 'text': None, 'label': 'PERSON', 'embedding': None, 'creation_date': datetime.date(2024, 9, 21), 'last_modified_date': datetime.date(2024, 9, 21), 'file_name': 'curie.txt', 'file_path': '/home/asilva/quarto/2024-PyData-Paris/kuzu-graph-rag/data/curie/curie.txt', 'file_size': 1830, 'file_type': 'text/plain', 'ref_doc_id': None, 'triplet_source_id': '21fca950-5574-4aa1-806c-ad7db40e3290'}) -> WORKED_WITH -> Albert Einstein ({'id': 'Marie Curie', 'text': None, 'label': 'PERSON', 'embedding': None, 'creation_date': datetime.date(2024, 9, 21), 'last_modified_date': datetime.date(2024, 9, 21), 'file_name': 'curie.txt', 'file_path': '/home/asilva/quarto/2024-PyData-Paris/kuzu-graph-rag/data/curie/curie.txt', 'file_size': 1830, 'file_type': 'text/plain', 'ref_doc_id': None, 'triplet_source_id': '21fca950-5574-4aa1-806c-ad7db40e3290'})\", mimetype='text/plain', start_char_idx=None, end_char_idx=None, text_template='{metadata_str}\\n\\n{content}', metadata_template='{key}: {value}', metadata_seperator='\\n'), score=1.0), NodeWithScore(node=TextNode(id_='d23b8aff-03c3-4bf5-9d9e-4d2ffbd0c8f1', embedding=None, metadata={}, excluded_embed_metadata_keys=[], excluded_llm_metadata_keys=[], relationships={<NodeRelationship.SOURCE: '1'>: RelatedNodeInfo(node_id='21fca950-5574-4aa1-806c-ad7db40e3290', node_type=None, metadata={}, hash=None)}, text=\"Pierre Curie ({'id': 'Pierre Curie', 'text': None, 'label': 'PERSON', 'embedding': None, 'creation_date': datetime.date(2024, 9, 21), 'last_modified_date': datetime.date(2024, 9, 21), 'file_name': 'curie.txt', 'file_path': '/home/asilva/quarto/2024-PyData-Paris/kuzu-graph-rag/data/curie/curie.txt', 'file_size': 1830, 'file_type': 'text/plain', 'ref_doc_id': None, 'triplet_source_id': '21fca950-5574-4aa1-806c-ad7db40e3290'}) -> DISCOVERED -> piezoelectricity ({'id': 'Pierre Curie', 'text': None, 'label': 'PERSON', 'embedding': None, 'creation_date': datetime.date(2024, 9, 21), 'last_modified_date': datetime.date(2024, 9, 21), 'file_name': 'curie.txt', 'file_path': '/home/asilva/quarto/2024-PyData-Paris/kuzu-graph-rag/data/curie/curie.txt', 'file_size': 1830, 'file_type': 'text/plain', 'ref_doc_id': None, 'triplet_source_id': '21fca950-5574-4aa1-806c-ad7db40e3290'})\", mimetype='text/plain', start_char_idx=None, end_char_idx=None, text_template='{metadata_str}\\n\\n{content}', metadata_template='{key}: {value}', metadata_seperator='\\n'), score=1.0), NodeWithScore(node=TextNode(id_='68ea6ed6-5eee-4016-9250-f67b4566bb00', embedding=None, metadata={}, excluded_embed_metadata_keys=[], excluded_llm_metadata_keys=[], relationships={<NodeRelationship.SOURCE: '1'>: RelatedNodeInfo(node_id='21fca950-5574-4aa1-806c-ad7db40e3290', node_type=None, metadata={}, hash=None)}, text=\"Pierre Curie ({'id': 'Pierre Curie', 'text': None, 'label': 'PERSON', 'embedding': None, 'creation_date': datetime.date(2024, 9, 21), 'last_modified_date': datetime.date(2024, 9, 21), 'file_name': 'curie.txt', 'file_path': '/home/asilva/quarto/2024-PyData-Paris/kuzu-graph-rag/data/curie/curie.txt', 'file_size': 1830, 'file_type': 'text/plain', 'ref_doc_id': None, 'triplet_source_id': '21fca950-5574-4aa1-806c-ad7db40e3290'}) -> WORKED_WITH -> Jacques Curie ({'id': 'Pierre Curie', 'text': None, 'label': 'PERSON', 'embedding': None, 'creation_date': datetime.date(2024, 9, 21), 'last_modified_date': datetime.date(2024, 9, 21), 'file_name': 'curie.txt', 'file_path': '/home/asilva/quarto/2024-PyData-Paris/kuzu-graph-rag/data/curie/curie.txt', 'file_size': 1830, 'file_type': 'text/plain', 'ref_doc_id': None, 'triplet_source_id': '21fca950-5574-4aa1-806c-ad7db40e3290'})\", mimetype='text/plain', start_char_idx=None, end_char_idx=None, text_template='{metadata_str}\\n\\n{content}', metadata_template='{key}: {value}', metadata_seperator='\\n'), score=1.0), NodeWithScore(node=TextNode(id_='28af9fe0-ae03-4cad-ab2e-1a56ebfd6da1', embedding=None, metadata={}, excluded_embed_metadata_keys=[], excluded_llm_metadata_keys=[], relationships={<NodeRelationship.SOURCE: '1'>: RelatedNodeInfo(node_id='21fca950-5574-4aa1-806c-ad7db40e3290', node_type=None, metadata={}, hash=None)}, text=\"Pierre Curie ({'id': 'Pierre Curie', 'text': None, 'label': 'PERSON', 'embedding': None, 'creation_date': datetime.date(2024, 9, 21), 'last_modified_date': datetime.date(2024, 9, 21), 'file_name': 'curie.txt', 'file_path': '/home/asilva/quarto/2024-PyData-Paris/kuzu-graph-rag/data/curie/curie.txt', 'file_size': 1830, 'file_type': 'text/plain', 'ref_doc_id': None, 'triplet_source_id': '21fca950-5574-4aa1-806c-ad7db40e3290'}) -> WORKED_WITH -> Paul Langevin ({'id': 'Pierre Curie', 'text': None, 'label': 'PERSON', 'embedding': None, 'creation_date': datetime.date(2024, 9, 21), 'last_modified_date': datetime.date(2024, 9, 21), 'file_name': 'curie.txt', 'file_path': '/home/asilva/quarto/2024-PyData-Paris/kuzu-graph-rag/data/curie/curie.txt', 'file_size': 1830, 'file_type': 'text/plain', 'ref_doc_id': None, 'triplet_source_id': '21fca950-5574-4aa1-806c-ad7db40e3290'})\", mimetype='text/plain', start_char_idx=None, end_char_idx=None, text_template='{metadata_str}\\n\\n{content}', metadata_template='{key}: {value}', metadata_seperator='\\n'), score=1.0), NodeWithScore(node=TextNode(id_='c9e713fd-adfb-48b7-83f2-3afe64248355', embedding=None, metadata={}, excluded_embed_metadata_keys=[], excluded_llm_metadata_keys=[], relationships={}, text=\"Jacques Curie ({'id': 'Jacques Curie', 'text': None, 'label': 'PERSON', 'embedding': None, 'creation_date': None, 'last_modified_date': None, 'file_name': None, 'file_path': None, 'file_size': None, 'file_type': None, 'ref_doc_id': None, 'triplet_source_id': None}) -> DISCOVERED -> piezoelectricity ({'id': 'Jacques Curie', 'text': None, 'label': 'PERSON', 'embedding': None, 'creation_date': None, 'last_modified_date': None, 'file_name': None, 'file_path': None, 'file_size': None, 'file_type': None, 'ref_doc_id': None, 'triplet_source_id': None})\", mimetype='text/plain', start_char_idx=None, end_char_idx=None, text_template='{metadata_str}\\n\\n{content}', metadata_template='{key}: {value}', metadata_seperator='\\n'), score=1.0)], metadata={'912e722b-2bb8-45b8-8c22-afa99cf8d368': {}, 'ec8629e4-c0e2-4e53-b101-00405316ebde': {}, '48de11ad-a5b6-4db1-a9ca-fac1f35035de': {}, 'ddb64653-526d-4443-a926-b7585c70ae7b': {}, 'e6fa911c-0bc8-47a0-8555-02faf2efdd7e': {}, '8d92d662-813c-4b21-a24f-e15a2ffe76e7': {}, 'f0fddae0-d498-4693-9ddb-9059dad51479': {}, '39bc1ce1-fb4f-4c96-8d56-24e1221ff57d': {}, 'd23b8aff-03c3-4bf5-9d9e-4d2ffbd0c8f1': {}, '68ea6ed6-5eee-4016-9250-f67b4566bb00': {}, '28af9fe0-ae03-4cad-ab2e-1a56ebfd6da1': {}, 'c9e713fd-adfb-48b7-83f2-3afe64248355': {}})"
      ]
     },
     "execution_count": 21,
     "metadata": {},
     "output_type": "execute_result"
    }
   ],
   "source": [
    "response"
   ]
  },
  {
   "cell_type": "code",
   "execution_count": 29,
   "metadata": {
    "execution": {
     "iopub.execute_input": "2024-09-23T09:34:33.042729Z",
     "iopub.status.busy": "2024-09-23T09:34:33.042152Z",
     "iopub.status.idle": "2024-09-23T09:34:33.050932Z",
     "shell.execute_reply": "2024-09-23T09:34:33.049849Z",
     "shell.execute_reply.started": "2024-09-23T09:34:33.042680Z"
    }
   },
   "outputs": [
    {
     "data": {
      "text/plain": [
       "'Pierre Curie and Jacques Curie discovered piezoelectricity.'"
      ]
     },
     "execution_count": 29,
     "metadata": {},
     "output_type": "execute_result"
    }
   ],
   "source": [
    "response.response"
   ]
  },
  {
   "cell_type": "code",
   "execution_count": 28,
   "metadata": {
    "execution": {
     "iopub.execute_input": "2024-09-23T09:33:06.031840Z",
     "iopub.status.busy": "2024-09-23T09:33:06.031113Z",
     "iopub.status.idle": "2024-09-23T09:33:06.038782Z",
     "shell.execute_reply": "2024-09-23T09:33:06.037618Z",
     "shell.execute_reply.started": "2024-09-23T09:33:06.031725Z"
    }
   },
   "outputs": [
    {
     "name": "stdout",
     "output_type": "stream",
     "text": [
      "Pierre Curie and Jacques Curie discovered piezoelectricity.\n"
     ]
    }
   ],
   "source": [
    "print(str(response))"
   ]
  },
  {
   "cell_type": "code",
   "execution_count": 30,
   "metadata": {
    "execution": {
     "iopub.execute_input": "2024-09-23T09:34:54.411397Z",
     "iopub.status.busy": "2024-09-23T09:34:54.410841Z",
     "iopub.status.idle": "2024-09-23T09:34:58.857745Z",
     "shell.execute_reply": "2024-09-23T09:34:58.856673Z",
     "shell.execute_reply.started": "2024-09-23T09:34:54.411351Z"
    }
   },
   "outputs": [
    {
     "name": "stdout",
     "output_type": "stream",
     "text": [
      "Pierre Curie worked with Jacques Curie and Paul Langevin.\n"
     ]
    }
   ],
   "source": [
    "response = kg_query_engine.query(\"Who did Pierre Curie work with?\")\n",
    "print(str(response))"
   ]
  },
  {
   "cell_type": "markdown",
   "metadata": {},
   "source": [
    "The two explicit relationships we are interested in are:\n",
    "- Pierre Curie worked with his brother Jacques, to discover piezoelectricity.\n",
    "- Paul Langevin was a student of Pierre Curie, which can be interpreted the same as a \"worked with\" relationship.\n",
    "\n",
    "Explicitly modeling this and storing this in the graph allowed the information to be retrieved, providing the right context to the generation model downstream."
   ]
  },
  {
   "cell_type": "markdown",
   "metadata": {},
   "source": [
    "## Takeaways from graph-only retrieval\n",
    "\n",
    "It can be seen by inspecting the raw data that the LLM-extracted graph is incomplete. Once the right nodes/relationships are added to the graph, the quality of the graph-based retrieval improves significantly. This did require some manual curation, but we will demonstrate below that this process is worth it, by trying to answer the **same** questions using vector-only retrieval."
   ]
  },
  {
   "cell_type": "markdown",
   "metadata": {},
   "source": [
    "## Part 2: Vector-only retrieval\n",
    "\n",
    "This stage demonstrates how to extract information into a vector database and store it in [LanceDB](https://lancedb.com/), an open source, embedded vector database."
   ]
  },
  {
   "cell_type": "code",
   "execution_count": 12,
   "metadata": {
    "execution": {
     "iopub.execute_input": "2024-09-21T06:28:06.358671Z",
     "iopub.status.busy": "2024-09-21T06:28:06.358424Z",
     "iopub.status.idle": "2024-09-21T06:28:06.779054Z",
     "shell.execute_reply": "2024-09-21T06:28:06.778206Z",
     "shell.execute_reply.started": "2024-09-21T06:28:06.358646Z"
    }
   },
   "outputs": [
    {
     "ename": "ModuleNotFoundError",
     "evalue": "No module named 'lance'",
     "output_type": "error",
     "traceback": [
      "\u001b[0;31m---------------------------------------------------------------------------\u001b[0m",
      "\u001b[0;31mModuleNotFoundError\u001b[0m                       Traceback (most recent call last)",
      "Cell \u001b[0;32mIn[12], line 8\u001b[0m\n\u001b[1;32m      6\u001b[0m \u001b[38;5;28;01mfrom\u001b[39;00m \u001b[38;5;21;01mllama_index\u001b[39;00m\u001b[38;5;21;01m.\u001b[39;00m\u001b[38;5;21;01mcore\u001b[39;00m\u001b[38;5;21;01m.\u001b[39;00m\u001b[38;5;21;01mquery_engine\u001b[39;00m \u001b[38;5;28;01mimport\u001b[39;00m RetrieverQueryEngine\n\u001b[1;32m      7\u001b[0m \u001b[38;5;28;01mfrom\u001b[39;00m \u001b[38;5;21;01mllama_index\u001b[39;00m\u001b[38;5;21;01m.\u001b[39;00m\u001b[38;5;21;01membeddings\u001b[39;00m\u001b[38;5;21;01m.\u001b[39;00m\u001b[38;5;21;01mopenai\u001b[39;00m \u001b[38;5;28;01mimport\u001b[39;00m OpenAIEmbedding\n\u001b[0;32m----> 8\u001b[0m \u001b[38;5;28;01mfrom\u001b[39;00m \u001b[38;5;21;01mllama_index\u001b[39;00m\u001b[38;5;21;01m.\u001b[39;00m\u001b[38;5;21;01mvector_stores\u001b[39;00m\u001b[38;5;21;01m.\u001b[39;00m\u001b[38;5;21;01mlancedb\u001b[39;00m \u001b[38;5;28;01mimport\u001b[39;00m LanceDBVectorStore\n\u001b[1;32m     10\u001b[0m \u001b[38;5;28;01mimport\u001b[39;00m \u001b[38;5;21;01mopenai\u001b[39;00m\n\u001b[1;32m     12\u001b[0m openai\u001b[38;5;241m.\u001b[39mapi_key \u001b[38;5;241m=\u001b[39m OPENAI_API_KEY\n",
      "File \u001b[0;32m~/quarto/2024-PyData-Paris/kuzu-graph-rag/.venv/lib/python3.12/site-packages/llama_index/vector_stores/lancedb/__init__.py:1\u001b[0m\n\u001b[0;32m----> 1\u001b[0m \u001b[38;5;28;01mfrom\u001b[39;00m \u001b[38;5;21;01mllama_index\u001b[39;00m\u001b[38;5;21;01m.\u001b[39;00m\u001b[38;5;21;01mvector_stores\u001b[39;00m\u001b[38;5;21;01m.\u001b[39;00m\u001b[38;5;21;01mlancedb\u001b[39;00m\u001b[38;5;21;01m.\u001b[39;00m\u001b[38;5;21;01mbase\u001b[39;00m \u001b[38;5;28;01mimport\u001b[39;00m LanceDBVectorStore\n\u001b[1;32m      3\u001b[0m __all__ \u001b[38;5;241m=\u001b[39m [\u001b[38;5;124m\"\u001b[39m\u001b[38;5;124mLanceDBVectorStore\u001b[39m\u001b[38;5;124m\"\u001b[39m]\n",
      "File \u001b[0;32m~/quarto/2024-PyData-Paris/kuzu-graph-rag/.venv/lib/python3.12/site-packages/llama_index/vector_stores/lancedb/base.py:8\u001b[0m\n\u001b[1;32m      5\u001b[0m \u001b[38;5;28;01mfrom\u001b[39;00m \u001b[38;5;21;01mtyping\u001b[39;00m \u001b[38;5;28;01mimport\u001b[39;00m Any, List, Optional\n\u001b[1;32m      6\u001b[0m \u001b[38;5;28;01mimport\u001b[39;00m \u001b[38;5;21;01mwarnings\u001b[39;00m\n\u001b[0;32m----> 8\u001b[0m \u001b[38;5;28;01mimport\u001b[39;00m \u001b[38;5;21;01mlancedb\u001b[39;00m\u001b[38;5;21;01m.\u001b[39;00m\u001b[38;5;21;01mrerankers\u001b[39;00m\n\u001b[1;32m      9\u001b[0m \u001b[38;5;28;01mimport\u001b[39;00m \u001b[38;5;21;01mnumpy\u001b[39;00m \u001b[38;5;28;01mas\u001b[39;00m \u001b[38;5;21;01mnp\u001b[39;00m\n\u001b[1;32m     10\u001b[0m \u001b[38;5;28;01mfrom\u001b[39;00m \u001b[38;5;21;01mllama_index\u001b[39;00m\u001b[38;5;21;01m.\u001b[39;00m\u001b[38;5;21;01mcore\u001b[39;00m\u001b[38;5;21;01m.\u001b[39;00m\u001b[38;5;21;01mbridge\u001b[39;00m\u001b[38;5;21;01m.\u001b[39;00m\u001b[38;5;21;01mpydantic\u001b[39;00m \u001b[38;5;28;01mimport\u001b[39;00m PrivateAttr\n",
      "File \u001b[0;32m~/quarto/2024-PyData-Paris/kuzu-graph-rag/.venv/lib/python3.12/site-packages/lancedb/__init__.py:24\u001b[0m\n\u001b[1;32m     22\u001b[0m \u001b[38;5;28;01mfrom\u001b[39;00m \u001b[38;5;21;01m.\u001b[39;00m\u001b[38;5;21;01m_lancedb\u001b[39;00m \u001b[38;5;28;01mimport\u001b[39;00m connect \u001b[38;5;28;01mas\u001b[39;00m lancedb_connect\n\u001b[1;32m     23\u001b[0m \u001b[38;5;28;01mfrom\u001b[39;00m \u001b[38;5;21;01m.\u001b[39;00m\u001b[38;5;21;01mcommon\u001b[39;00m \u001b[38;5;28;01mimport\u001b[39;00m URI, sanitize_uri\n\u001b[0;32m---> 24\u001b[0m \u001b[38;5;28;01mfrom\u001b[39;00m \u001b[38;5;21;01m.\u001b[39;00m\u001b[38;5;21;01mdb\u001b[39;00m \u001b[38;5;28;01mimport\u001b[39;00m AsyncConnection, DBConnection, LanceDBConnection\n\u001b[1;32m     25\u001b[0m \u001b[38;5;28;01mfrom\u001b[39;00m \u001b[38;5;21;01m.\u001b[39;00m\u001b[38;5;21;01mremote\u001b[39;00m\u001b[38;5;21;01m.\u001b[39;00m\u001b[38;5;21;01mdb\u001b[39;00m \u001b[38;5;28;01mimport\u001b[39;00m RemoteDBConnection\n\u001b[1;32m     26\u001b[0m \u001b[38;5;28;01mfrom\u001b[39;00m \u001b[38;5;21;01m.\u001b[39;00m\u001b[38;5;21;01mschema\u001b[39;00m \u001b[38;5;28;01mimport\u001b[39;00m vector\n",
      "File \u001b[0;32m~/quarto/2024-PyData-Paris/kuzu-graph-rag/.venv/lib/python3.12/site-packages/lancedb/db.py:29\u001b[0m\n\u001b[1;32m     26\u001b[0m \u001b[38;5;28;01mfrom\u001b[39;00m \u001b[38;5;21;01mlancedb\u001b[39;00m\u001b[38;5;21;01m.\u001b[39;00m\u001b[38;5;21;01mcommon\u001b[39;00m \u001b[38;5;28;01mimport\u001b[39;00m data_to_reader, validate_schema\n\u001b[1;32m     28\u001b[0m \u001b[38;5;28;01mfrom\u001b[39;00m \u001b[38;5;21;01m.\u001b[39;00m\u001b[38;5;21;01m_lancedb\u001b[39;00m \u001b[38;5;28;01mimport\u001b[39;00m connect \u001b[38;5;28;01mas\u001b[39;00m lancedb_connect\n\u001b[0;32m---> 29\u001b[0m \u001b[38;5;28;01mfrom\u001b[39;00m \u001b[38;5;21;01m.\u001b[39;00m\u001b[38;5;21;01mtable\u001b[39;00m \u001b[38;5;28;01mimport\u001b[39;00m (\n\u001b[1;32m     30\u001b[0m     AsyncTable,\n\u001b[1;32m     31\u001b[0m     LanceTable,\n\u001b[1;32m     32\u001b[0m     Table,\n\u001b[1;32m     33\u001b[0m     _table_path,\n\u001b[1;32m     34\u001b[0m     sanitize_create_table,\n\u001b[1;32m     35\u001b[0m )\n\u001b[1;32m     36\u001b[0m \u001b[38;5;28;01mfrom\u001b[39;00m \u001b[38;5;21;01m.\u001b[39;00m\u001b[38;5;21;01mutil\u001b[39;00m \u001b[38;5;28;01mimport\u001b[39;00m (\n\u001b[1;32m     37\u001b[0m     fs_from_uri,\n\u001b[1;32m     38\u001b[0m     get_uri_location,\n\u001b[1;32m     39\u001b[0m     get_uri_scheme,\n\u001b[1;32m     40\u001b[0m     validate_table_name,\n\u001b[1;32m     41\u001b[0m )\n\u001b[1;32m     43\u001b[0m \u001b[38;5;28;01mif\u001b[39;00m TYPE_CHECKING:\n",
      "File \u001b[0;32m~/quarto/2024-PyData-Paris/kuzu-graph-rag/.venv/lib/python3.12/site-packages/lancedb/table.py:25\u001b[0m\n\u001b[1;32m     12\u001b[0m \u001b[38;5;28;01mfrom\u001b[39;00m \u001b[38;5;21;01mtyping\u001b[39;00m \u001b[38;5;28;01mimport\u001b[39;00m (\n\u001b[1;32m     13\u001b[0m     TYPE_CHECKING,\n\u001b[1;32m     14\u001b[0m     Any,\n\u001b[0;32m   (...)\u001b[0m\n\u001b[1;32m     21\u001b[0m     Union,\n\u001b[1;32m     22\u001b[0m )\n\u001b[1;32m     23\u001b[0m \u001b[38;5;28;01mfrom\u001b[39;00m \u001b[38;5;21;01murllib\u001b[39;00m\u001b[38;5;21;01m.\u001b[39;00m\u001b[38;5;21;01mparse\u001b[39;00m \u001b[38;5;28;01mimport\u001b[39;00m urlparse\n\u001b[0;32m---> 25\u001b[0m \u001b[38;5;28;01mimport\u001b[39;00m \u001b[38;5;21;01mlance\u001b[39;00m\n\u001b[1;32m     26\u001b[0m \u001b[38;5;28;01mimport\u001b[39;00m \u001b[38;5;21;01mnumpy\u001b[39;00m \u001b[38;5;28;01mas\u001b[39;00m \u001b[38;5;21;01mnp\u001b[39;00m\n\u001b[1;32m     27\u001b[0m \u001b[38;5;28;01mimport\u001b[39;00m \u001b[38;5;21;01mpyarrow\u001b[39;00m \u001b[38;5;28;01mas\u001b[39;00m \u001b[38;5;21;01mpa\u001b[39;00m\n",
      "\u001b[0;31mModuleNotFoundError\u001b[0m: No module named 'lance'"
     ]
    }
   ],
   "source": [
    "# We'll use LanceDB to perform vector similarity search\n",
    "shutil.rmtree(\"./test_lancedb\", ignore_errors=True)\n",
    "\n",
    "from llama_index.core import StorageContext\n",
    "from llama_index.core import VectorStoreIndex\n",
    "from llama_index.core.query_engine import RetrieverQueryEngine\n",
    "from llama_index.embeddings.openai import OpenAIEmbedding\n",
    "from llama_index.vector_stores.lancedb import LanceDBVectorStore\n",
    "\n",
    "import openai\n",
    "\n",
    "openai.api_key = OPENAI_API_KEY"
   ]
  },
  {
   "cell_type": "code",
   "execution_count": 11,
   "metadata": {},
   "outputs": [
    {
     "name": "stderr",
     "output_type": "stream",
     "text": [
      "[2024-09-17T20:21:20Z WARN  lance::dataset] No existing dataset at /Users/prrao/code/kuzu-graph-rag/test_lancedb/vectors.lance, it will be created\n"
     ]
    }
   ],
   "source": [
    "vector_store = LanceDBVectorStore(\n",
    "    uri=\"./test_lancedb\",\n",
    "    mode=\"overwrite\",\n",
    ")\n",
    "storage_context = StorageContext.from_defaults(vector_store=vector_store)\n",
    "\n",
    "vector_index = VectorStoreIndex.from_documents(\n",
    "    documents,\n",
    "    storage_context=storage_context,\n",
    "    embed_model=OpenAIEmbedding(model_name=\"text-embedding-3-small\"),\n",
    "    llm=OpenAI(model=\"gpt-4o-mini\", temperature=0.3),\n",
    ")"
   ]
  },
  {
   "cell_type": "code",
   "execution_count": 12,
   "metadata": {},
   "outputs": [
    {
     "data": {
      "text/plain": [
       "'Pierre Curie discovered piezoelectricity.'"
      ]
     },
     "execution_count": 12,
     "metadata": {},
     "output_type": "execute_result"
    }
   ],
   "source": [
    "vector_retriever = vector_index.as_retriever(similarity_top_k=4)\n",
    "vector_query_engine = RetrieverQueryEngine(vector_retriever)\n",
    "\n",
    "response = vector_query_engine.query(\"Who discovered Piezoelectricty?\")\n",
    "str(response)"
   ]
  },
  {
   "cell_type": "code",
   "execution_count": 13,
   "metadata": {},
   "outputs": [
    {
     "data": {
      "text/plain": [
       "'Pierre Curie worked with his brother Jacques in discovering piezoelectricity.'"
      ]
     },
     "execution_count": 13,
     "metadata": {},
     "output_type": "execute_result"
    }
   ],
   "source": [
    "response = vector_query_engine.query(\"Who did Pierre Curie work with?\")\n",
    "str(response)"
   ]
  },
  {
   "cell_type": "markdown",
   "metadata": {},
   "source": [
    "The implicit relationship \"was a student of\" isn't close enough to \"worked with\" in vector space. This leads the vector search to miss the relationship between Pierre Curie and Paul Langevin (who was his student, meaning that they worked togethrer). Using the graph as shown earlier, we were able to explicitly define and capture this relationship, allowing the graph-based retrieval to provide the generation model with a slightly better context."
   ]
  },
  {
   "cell_type": "markdown",
   "metadata": {},
   "source": [
    "## Takeaways from vector-only retrieval\n",
    "\n",
    "Due to the nature of the data and the questions being asked, the vector-only retrieval obtains _partial_ answers to the questions. This is because the vector embeddings are not able to capture the deeper relationships between the entities in the text. This is where the graph-based retrieval provides value, as it can capture these relationships and provide more accurate answers.\n",
    "\n",
    "However, this is **not** to say that graph retrieval is better than vector retrieval - in many cases, semantic similarity can help narrow down the search space and provide useful insights. The aim of Graph RAG is to combine the two methods, which we will demonstrate in the next section."
   ]
  },
  {
   "cell_type": "markdown",
   "metadata": {},
   "source": [
    "## Stage 3: Combining graph and vector retrieval to build a Graph RAG system\n",
    "\n",
    "In this stage, we will demonstrate how to combine graph and vector retrieval and rerank the results in order to provide better context to the LLM prior to generating the response. We will use the afore-mentioned Kùzu and LanceDB databases to achieve this."
   ]
  },
  {
   "cell_type": "code",
   "execution_count": 14,
   "metadata": {},
   "outputs": [],
   "source": [
    "from llama_index.core.retrievers import BaseRetriever\n",
    "from llama_index.core.schema import NodeWithScore\n",
    "from llama_index.postprocessor.cohere_rerank.base import CohereRerank\n",
    "\n",
    "\n",
    "class CustomRerankerRetriever(BaseRetriever):\n",
    "    \"\"\"Custom retriever with cohere reranking.\"\"\"\n",
    "    def __init__(\n",
    "            self,\n",
    "            kg_retriever,\n",
    "            vector_retriever,\n",
    "            cohere_api_key: Optional[str] = None,\n",
    "            cohere_top_n: int = 2,\n",
    "        ):\n",
    "        self._kg_retriever = kg_retriever\n",
    "        self._vector_retriever = vector_retriever\n",
    "        self._reranker = CohereRerank(\n",
    "            api_key=cohere_api_key, top_n=cohere_top_n\n",
    "        )\n",
    "\n",
    "    def _retrieve(self, query: str) -> List[NodeWithScore]:\n",
    "        \"\"\"Define custom retriever with reranking.\n",
    "\n",
    "        Could return `str`, `TextNode`, `NodeWithScore`, or a list of those.\n",
    "        \"\"\"\n",
    "        vector_retrieval_nodes = self._vector_retriever.retrieve(query)\n",
    "        kg_retrieval_nodes = self._kg_retriever.retrieve(query)\n",
    "        combined_nodes = vector_retrieval_nodes + kg_retrieval_nodes\n",
    "        reranked_nodes = self._reranker.postprocess_nodes(\n",
    "            combined_nodes,\n",
    "            query_str=str(query),\n",
    "        )\n",
    "        unique_nodes = {n.node_id: n for n in reranked_nodes}\n",
    "        return list(unique_nodes.values())"
   ]
  },
  {
   "cell_type": "code",
   "execution_count": 15,
   "metadata": {},
   "outputs": [],
   "source": [
    "custom_reranker_retriever = CustomRerankerRetriever(\n",
    "    kg_retriever,\n",
    "    vector_retriever,\n",
    "    cohere_api_key=COHERE_API_KEY,\n",
    "    cohere_top_n=2,\n",
    ")"
   ]
  },
  {
   "cell_type": "code",
   "execution_count": 16,
   "metadata": {},
   "outputs": [
    {
     "name": "stdout",
     "output_type": "stream",
     "text": [
      "Pierre Curie worked with Paul Langevin and Jacques Curie.\n"
     ]
    }
   ],
   "source": [
    "# Set the LLM for generation in the CustomRerankerRetriever\n",
    "Settings.llm = generation_llm\n",
    "\n",
    "custom_reranker_query_engine = RetrieverQueryEngine(custom_reranker_retriever)\n",
    "\n",
    "response = custom_reranker_query_engine.query(\"Who did Pierre Curie work with?\")\n",
    "print(str(response))"
   ]
  },
  {
   "cell_type": "markdown",
   "metadata": {},
   "source": [
    "The custom retriever was able to use the context from both the graph and the vector retrievals to provide the correct answer to the question - Paul Langevin was Pierre Curie's student as per the raw text, but the knowledge graph explicitly stored this via the relationship `(:PERSON {name: \"Paul Langevin\"})-[:WORKED_WITH]->(:PERSON {name: \"PierreCurie\"})`, which the reranker retriever was able to leverage from the given context."
   ]
  },
  {
   "cell_type": "markdown",
   "metadata": {},
   "source": [
    "## Takeaways from a Graph RAG perspective\n",
    "\n",
    "As can be seen from the above example, combining graph and vector retrieval can provide more accurate and contextually relevant answers to the questions. This is because the graph-based retrieval can capture the relationships between the entities in the text, while the vector-based retrieval can provide semantic similarity between the entities. By combining the two, we can build a powerful system that can answer complex queries that require both semantic similarity and relationship traversal, with a reranker retriever that can leverage the context from both retrievals to provide a more relevant answer.\n",
    "\n",
    "In practice, the Graph RAG system can be used to answer a wide range of questions, such as factual questions, definition questions, and reasoning questions. The key is to build a high-quality knowledge graph, and to combine it with vector search in a way that provides the most relevant and accurate answers to the questions.\n",
    "\n",
    "## Conclusions\n",
    "\n",
    "Graph RAG can be thought of as a suite of methodologies that combine the power of knowledge graphs with the benefits of vector search. Databases like Kùzu and LanceDB, due to their ease of use, developer friendliness and permissive licensing, are great choices for building a Graph RAG system."
   ]
  }
 ],
 "metadata": {
  "kernelspec": {
   "display_name": "Python 3 (ipykernel)",
   "language": "python",
   "name": "python3"
  },
  "language_info": {
   "codemirror_mode": {
    "name": "ipython",
    "version": 3
   },
   "file_extension": ".py",
   "mimetype": "text/x-python",
   "name": "python",
   "nbconvert_exporter": "python",
   "pygments_lexer": "ipython3",
   "version": "3.12.4"
  }
 },
 "nbformat": 4,
 "nbformat_minor": 4
}
